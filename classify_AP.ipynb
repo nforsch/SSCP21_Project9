{
 "cells": [
  {
   "cell_type": "code",
   "execution_count": null,
   "metadata": {
    "ExecuteTime": {
     "end_time": "2021-06-15T10:38:50.607043Z",
     "start_time": "2021-06-15T10:38:50.601082Z"
    }
   },
   "outputs": [],
   "source": [
    "import h5py\n",
    "import numpy as np\n",
    "import matplotlib.pyplot as plt\n",
    "import time\n",
    "from tqdm import tqdm\n",
    "\n",
    "from sklearn.model_selection import train_test_split, GridSearchCV\n",
    "from sklearn.svm import SVC, LinearSVC\n",
    "from sklearn.naive_bayes import GaussianNB\n",
    "from sklearn.metrics import accuracy_score, roc_curve, auc, roc_auc_score, classification_report, mean_squared_error, confusion_matrix\n",
    "from sklearn.preprocessing import label_binarize, StandardScaler, OneHotEncoder\n",
    "from sklearn.feature_selection import RFECV\n",
    "from sklearn.pipeline import make_pipeline\n",
    "from sklearn.model_selection import cross_val_score, RepeatedKFold\n",
    "\n",
    "from skmultilearn.ensemble import MajorityVotingClassifier\n",
    "from skmultilearn.cluster import FixedLabelSpaceClusterer\n",
    "from skmultilearn.problem_transform import LabelPowerset, BinaryRelevance, ClassifierChain\n",
    "from skmultilearn.model_selection.measures import get_combination_wise_output_matrix\n",
    "from skmultilearn.model_selection import iterative_train_test_split, IterativeStratification\n",
    "\n",
    "from tensorflow.keras.models import Sequential\n",
    "from tensorflow.keras.layers import Dense\n",
    "\n",
    "plt.rcParams['font.sans-serif'] = \"Helvetica\"\n",
    "plt.rcParams['font.family'] = \"sans-serif\"\n",
    "plt.rcParams['font.size'] = 16\n",
    "plt.rcParams['savefig.facecolor'] = 'white'"
   ]
  },
  {
   "cell_type": "markdown",
   "metadata": {},
   "source": [
    "# Function definitions"
   ]
  },
  {
   "cell_type": "code",
   "execution_count": null,
   "metadata": {
    "ExecuteTime": {
     "end_time": "2021-06-15T10:01:11.461065Z",
     "start_time": "2021-06-15T10:01:11.453575Z"
    }
   },
   "outputs": [],
   "source": [
    "def import_data(filepath):\n",
    "    f = h5py.File(filepath, 'r')\n",
    "    V = f['voltage'][...]\n",
    "    Ca = f['calcium'][...]\n",
    "    t = f['time'][...]\n",
    "    labels = f['labels'][...]\n",
    "    return V, Ca, t, labels\n",
    "\n",
    "\n",
    "def normalize_traces(traces_a, traces_b=None):\n",
    "    if traces_b == None:\n",
    "        traces_a_norm = []\n",
    "        for trace in traces_a:\n",
    "            trace_norm = (trace - trace.min()) / (trace.max() - trace.min())\n",
    "            traces_a_norm.append(trace_norm)\n",
    "        traces_a_norm = np.array(traces_a_norm)\n",
    "        return traces_a_norm\n",
    "    else:  # if pass two sets of traces, normalize traces_b relative to traces_a\n",
    "        traces_a_norm, traces_b_norm = [], []\n",
    "        for trace_a, trace_b in zip(traces_a, traces_b):\n",
    "            traces_a_norm.append(\n",
    "                (trace_a - trace_a.min()) / (trace_a.max() - trace_a.min()))\n",
    "            traces_b_norm.append(\n",
    "                (trace_b - trace_a.min()) / (trace_a.max() - trace_a.min()))\n",
    "        traces_a_norm = np.array(traces_a_norm)\n",
    "        traces_b_norm = np.array(traces_b_norm)\n",
    "        return traces_a_norm, traces_b_norm\n",
    "\n",
    "\n",
    "def add_noise(X, percentage=5.0):\n",
    "    std = np.nanmean(X, axis=0).std()\n",
    "    noise = np.random.normal(0, std, X.shape) * percentage / 100\n",
    "    X_noise = X + noise\n",
    "    return X_noise"
   ]
  },
  {
   "cell_type": "markdown",
   "metadata": {},
   "source": [
    "# Import data"
   ]
  },
  {
   "cell_type": "code",
   "execution_count": null,
   "metadata": {
    "ExecuteTime": {
     "end_time": "2021-06-15T10:45:14.733859Z",
     "start_time": "2021-06-15T10:45:14.720611Z"
    }
   },
   "outputs": [],
   "source": [
    "data_path = \"/Volumes/GoogleDrive/My Drive/Simula/SSCP21/SSCP21_Project9/code/data.h5\"\n",
    "label_order = ['Kr', 'CaL', 'Na', 'NaL', 'to', 'Ks', 'K1']\n",
    "\n",
    "V, Ca, t, labels = import_data(data_path)\n",
    "# Separate control and drug cases\n",
    "V_c = V[:, :, 0]\n",
    "V_d = V[:, :, 1]\n",
    "Ca_c = Ca[:, :, 0]\n",
    "Ca_d = Ca[:, :, 1]"
   ]
  },
  {
   "cell_type": "markdown",
   "metadata": {},
   "source": [
    "# Plot data"
   ]
  },
  {
   "cell_type": "code",
   "execution_count": null,
   "metadata": {
    "ExecuteTime": {
     "end_time": "2021-06-15T10:48:35.618603Z",
     "start_time": "2021-06-15T10:48:25.704232Z"
    }
   },
   "outputs": [],
   "source": [
    "fig, ax = plt.subplots(2, 1, figsize=(8, 8), sharex=True)\n",
    "for Vp, Cap in zip(V_c, Ca_c):\n",
    "    ax[0].plot(t, Vp, c='tab:blue', lw=0.4, alpha=0.1)\n",
    "    ax[1].plot(t, Cap, c='k', lw=0.4, alpha=0.1)\n",
    "    ax[0].set_ylabel(\"TMP\")\n",
    "    ax[1].set_ylabel(\"Calcium\")\n",
    "    ax[1].set_ylabel(\"time (ms)\")"
   ]
  },
  {
   "cell_type": "markdown",
   "metadata": {},
   "source": [
    "# Prep data for classifier"
   ]
  },
  {
   "cell_type": "code",
   "execution_count": null,
   "metadata": {
    "ExecuteTime": {
     "end_time": "2021-06-15T10:45:18.604416Z",
     "start_time": "2021-06-15T10:45:17.443331Z"
    }
   },
   "outputs": [],
   "source": [
    "# Add noise and combine V with Ca\n",
    "pct_noise = 0.0\n",
    "V_c_norm, V_d_norm = normalize_traces(add_noise(V_c,pct_noise)), normalize_traces(add_noise(V_d,pct_noise))\n",
    "Ca_c_norm, Ca_d_norm = normalize_traces(add_noise(Ca_c,pct_noise)), normalize_traces(add_noise(Ca_d,pct_noise))\n",
    "X = np.concatenate((V_d_norm-V_c_norm,Ca_d_norm-Ca_c_norm),axis=1)\n",
    "\n",
    "# Standardize data\n",
    "scaler = StandardScaler()\n",
    "X = scaler.fit_transform(X)\n",
    "y = labels\n",
    "\n",
    "# Split into training and testing\n",
    "ratio = 0.3 # test/total\n",
    "indices = np.arange(X.shape[0])\n",
    "X_train, y_train, X_test, y_test = iterative_train_test_split(X, y, test_size = ratio)\n",
    "# X_train, X_test, y_train, y_test, idx_train, idx_test = train_test_split(X, y_sparse, indices, test_size=ratio, random_state=None)"
   ]
  },
  {
   "cell_type": "markdown",
   "metadata": {},
   "source": [
    "# Train and test classifier\n",
    "## Naive Bayes"
   ]
  },
  {
   "cell_type": "code",
   "execution_count": null,
   "metadata": {
    "ExecuteTime": {
     "end_time": "2021-06-15T10:43:03.082906Z",
     "start_time": "2021-06-15T10:43:02.878605Z"
    }
   },
   "outputs": [],
   "source": [
    "clf = BinaryRelevance(classifier = GaussianNB())\n",
    "\n",
    "start = time.time()\n",
    "clf.fit(X_train, y_train)\n",
    "print('training time: ',round(time.time()-start,2),'seconds')\n",
    "\n",
    "y_hat = clf.predict(X_test).toarray().astype(int)\n",
    "for i in range(7):\n",
    "    print(f\"Accuracy label {i}:\",accuracy_score(y_test[:,i],y_hat[:,i]))\n"
   ]
  },
  {
   "cell_type": "code",
   "execution_count": null,
   "metadata": {
    "ExecuteTime": {
     "end_time": "2021-06-15T10:43:17.832683Z",
     "start_time": "2021-06-15T10:43:17.535572Z"
    }
   },
   "outputs": [],
   "source": [
    "# Use multi-label classifier chain (MLCC)\n",
    "clf = ClassifierChain( classifier = GaussianNB() )\n",
    "\n",
    "start = time.time()\n",
    "clf.fit(X_train, y_train)\n",
    "print('training time: ',round(time.time()-start,2),'seconds')\n",
    "\n",
    "y_hat = clf.predict(X_test).toarray().astype(int)\n",
    "for i in range(7):\n",
    "    print(f\"Accuracy label {i} ({label_order[i]}):\",accuracy_score(y_test[:,i],y_hat[:,i]))"
   ]
  },
  {
   "cell_type": "code",
   "execution_count": null,
   "metadata": {
    "ExecuteTime": {
     "end_time": "2021-06-15T10:50:55.282507Z",
     "start_time": "2021-06-15T10:50:54.687253Z"
    }
   },
   "outputs": [],
   "source": [
    "# Formulate as label power-set\n",
    "clf = LabelPowerset( classifier = GaussianNB() )\n",
    "\n",
    "start = time.time()\n",
    "clf.fit(X_train, y_train)\n",
    "print('training time: ',round(time.time()-start,2),'seconds')\n",
    "\n",
    "y_hat = clf.predict(X_test).toarray().astype(int)\n",
    "for i in range(7):\n",
    "    print(f\"Accuracy label {i} ({label_order[i]}):\",accuracy_score(y_test[:,i],y_hat[:,i]))\n",
    "    \n",
    "# clf.unique_combinations_"
   ]
  },
  {
   "cell_type": "markdown",
   "metadata": {},
   "source": [
    "## SVC"
   ]
  },
  {
   "cell_type": "code",
   "execution_count": null,
   "metadata": {
    "ExecuteTime": {
     "end_time": "2021-06-15T09:42:38.410256Z",
     "start_time": "2021-06-15T09:41:41.060413Z"
    }
   },
   "outputs": [],
   "source": [
    "# Start with binary relevance\n",
    "clf = BinaryRelevance( classifier = SVC(kernel='linear', C=1, gamma='scale', probability=True) )\n",
    "\n",
    "start = time.time()\n",
    "clf.fit(X_train, y_train)\n",
    "print('training time: ',round(time.time()-start,2),'seconds')\n",
    "\n",
    "y_hat = clf.predict(X_test).toarray().astype(int)\n",
    "for i in range(7):\n",
    "    print(f\"Accuracy label {i} ({label_order[i]}):\",accuracy_score(y_test[:,i],y_hat[:,i]))"
   ]
  },
  {
   "cell_type": "markdown",
   "metadata": {
    "ExecuteTime": {
     "end_time": "2021-06-14T15:59:35.249929Z",
     "start_time": "2021-06-14T15:59:35.247404Z"
    }
   },
   "source": [
    "## MLP neural net with cross-validation"
   ]
  },
  {
   "cell_type": "code",
   "execution_count": null,
   "metadata": {
    "ExecuteTime": {
     "end_time": "2021-06-15T10:13:13.854455Z",
     "start_time": "2021-06-15T10:12:43.257451Z"
    }
   },
   "outputs": [],
   "source": [
    "def get_model(n_inputs, n_outputs):\n",
    "    model = Sequential()\n",
    "    model.add(Dense(20, input_dim=n_inputs, kernel_initializer='he_uniform', activation='relu'))\n",
    "    model.add(Dense(n_outputs, activation='sigmoid'))\n",
    "    model.compile(loss='binary_crossentropy', optimizer='adam')\n",
    "    return model\n",
    "\n",
    "def evaluate_model(X, y):\n",
    "    results = list()\n",
    "    n_inputs, n_outputs = X.shape[1], y.shape[1]\n",
    "    # define evaluation procedure\n",
    "    cv = RepeatedKFold(n_splits=10, n_repeats=3, random_state=1)\n",
    "    # enumerate folds\n",
    "    for train_ix, test_ix in tqdm(cv.split(X), total=30):\n",
    "        # prepare data\n",
    "        X_train, X_test = X[train_ix], X[test_ix]\n",
    "        y_train, y_test = y[train_ix], y[test_ix]\n",
    "        # define model\n",
    "        model = get_model(n_inputs, n_outputs)\n",
    "        # fit model\n",
    "        model.fit(X_train, y_train, verbose=0, epochs=100)\n",
    "        # make a prediction on the test set\n",
    "        y_hat = model.predict(X_test)\n",
    "        # round probabilities to class labels\n",
    "        y_hat = y_hat.round()\n",
    "        # calculate accuracy\n",
    "        acc = accuracy_score(y_test, y_hat)\n",
    "        # store result\n",
    "        results.append(acc)\n",
    "    return results\n",
    "\n",
    "results = evaluate_model(X, y)\n",
    "# summarize performance\n",
    "print('Accuracy: %.3f (%.3f)' % (np.mean(results), np.std(results)))"
   ]
  },
  {
   "cell_type": "code",
   "execution_count": null,
   "metadata": {},
   "outputs": [],
   "source": []
  }
 ],
 "metadata": {
  "kernelspec": {
   "display_name": "venv-svm",
   "language": "python",
   "name": "venv-svm"
  },
  "language_info": {
   "codemirror_mode": {
    "name": "ipython",
    "version": 3
   },
   "file_extension": ".py",
   "mimetype": "text/x-python",
   "name": "python",
   "nbconvert_exporter": "python",
   "pygments_lexer": "ipython3",
   "version": "3.8.9"
  },
  "notify_time": "30",
  "toc": {
   "base_numbering": 1,
   "nav_menu": {},
   "number_sections": true,
   "sideBar": true,
   "skip_h1_title": false,
   "title_cell": "Table of Contents",
   "title_sidebar": "Contents",
   "toc_cell": false,
   "toc_position": {},
   "toc_section_display": true,
   "toc_window_display": false
  },
  "varInspector": {
   "cols": {
    "lenName": 16,
    "lenType": 16,
    "lenVar": 40
   },
   "kernels_config": {
    "python": {
     "delete_cmd_postfix": "",
     "delete_cmd_prefix": "del ",
     "library": "var_list.py",
     "varRefreshCmd": "print(var_dic_list())"
    },
    "r": {
     "delete_cmd_postfix": ") ",
     "delete_cmd_prefix": "rm(",
     "library": "var_list.r",
     "varRefreshCmd": "cat(var_dic_list()) "
    }
   },
   "types_to_exclude": [
    "module",
    "function",
    "builtin_function_or_method",
    "instance",
    "_Feature"
   ],
   "window_display": false
  }
 },
 "nbformat": 4,
 "nbformat_minor": 4
}
